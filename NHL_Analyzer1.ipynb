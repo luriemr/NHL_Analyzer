{
 "cells": [
  {
   "cell_type": "code",
   "execution_count": 1,
   "metadata": {},
   "outputs": [],
   "source": [
    "import numpy as np"
   ]
  },
  {
   "cell_type": "code",
   "execution_count": 2,
   "metadata": {},
   "outputs": [],
   "source": [
    "import pandas as pd"
   ]
  },
  {
   "cell_type": "code",
   "execution_count": 3,
   "metadata": {},
   "outputs": [],
   "source": [
    "import matplotlib.pyplot as plt"
   ]
  },
  {
   "cell_type": "code",
   "execution_count": 4,
   "metadata": {},
   "outputs": [
    {
     "name": "stdout",
     "output_type": "stream",
     "text": [
      "['.DS_Store', 'test.csv', 'test_salaries.csv', 'train.csv', 'traincopy.csv']\n"
     ]
    }
   ],
   "source": [
    "import os\n",
    "print(os.listdir('/Users/mr_lurie/1962_3450_bundle_archive'))"
   ]
  },
  {
   "cell_type": "code",
   "execution_count": 5,
   "metadata": {},
   "outputs": [],
   "source": [
    "player = pd.read_csv(\"/Users/mr_lurie/1962_3450_bundle_archive/train.csv\", encoding = \"ISO-8859-1\"). fillna(0)"
   ]
  },
  {
   "cell_type": "code",
   "execution_count": 6,
   "metadata": {},
   "outputs": [
    {
     "data": {
      "text/html": [
       "<div>\n",
       "<style scoped>\n",
       "    .dataframe tbody tr th:only-of-type {\n",
       "        vertical-align: middle;\n",
       "    }\n",
       "\n",
       "    .dataframe tbody tr th {\n",
       "        vertical-align: top;\n",
       "    }\n",
       "\n",
       "    .dataframe thead th {\n",
       "        text-align: right;\n",
       "    }\n",
       "</style>\n",
       "<table border=\"1\" class=\"dataframe\">\n",
       "  <thead>\n",
       "    <tr style=\"text-align: right;\">\n",
       "      <th></th>\n",
       "      <th>Salary</th>\n",
       "      <th>Born</th>\n",
       "      <th>City</th>\n",
       "      <th>Pr/St</th>\n",
       "      <th>Cntry</th>\n",
       "      <th>Nat</th>\n",
       "      <th>Ht</th>\n",
       "      <th>Wt</th>\n",
       "      <th>DftYr</th>\n",
       "      <th>DftRd</th>\n",
       "      <th>...</th>\n",
       "      <th>PEND</th>\n",
       "      <th>OPS</th>\n",
       "      <th>DPS</th>\n",
       "      <th>PS</th>\n",
       "      <th>OTOI</th>\n",
       "      <th>Grit</th>\n",
       "      <th>DAP</th>\n",
       "      <th>Pace</th>\n",
       "      <th>GS</th>\n",
       "      <th>GS/G</th>\n",
       "    </tr>\n",
       "  </thead>\n",
       "  <tbody>\n",
       "    <tr>\n",
       "      <th>0</th>\n",
       "      <td>925000</td>\n",
       "      <td>97-01-30</td>\n",
       "      <td>Sainte-Marie</td>\n",
       "      <td>QC</td>\n",
       "      <td>CAN</td>\n",
       "      <td>CAN</td>\n",
       "      <td>74</td>\n",
       "      <td>190</td>\n",
       "      <td>2015.0</td>\n",
       "      <td>1.0</td>\n",
       "      <td>...</td>\n",
       "      <td>1.0</td>\n",
       "      <td>0.0</td>\n",
       "      <td>-0.2</td>\n",
       "      <td>-0.2</td>\n",
       "      <td>40.03</td>\n",
       "      <td>1</td>\n",
       "      <td>0.0</td>\n",
       "      <td>175.7</td>\n",
       "      <td>-0.4</td>\n",
       "      <td>-0.38</td>\n",
       "    </tr>\n",
       "    <tr>\n",
       "      <th>1</th>\n",
       "      <td>2250000</td>\n",
       "      <td>93-12-21</td>\n",
       "      <td>Ottawa</td>\n",
       "      <td>ON</td>\n",
       "      <td>CAN</td>\n",
       "      <td>CAN</td>\n",
       "      <td>74</td>\n",
       "      <td>207</td>\n",
       "      <td>2012.0</td>\n",
       "      <td>1.0</td>\n",
       "      <td>...</td>\n",
       "      <td>98.0</td>\n",
       "      <td>-0.2</td>\n",
       "      <td>3.4</td>\n",
       "      <td>3.2</td>\n",
       "      <td>2850.59</td>\n",
       "      <td>290</td>\n",
       "      <td>13.3</td>\n",
       "      <td>112.5</td>\n",
       "      <td>14.1</td>\n",
       "      <td>0.18</td>\n",
       "    </tr>\n",
       "    <tr>\n",
       "      <th>2</th>\n",
       "      <td>8000000</td>\n",
       "      <td>88-04-16</td>\n",
       "      <td>St. Paul</td>\n",
       "      <td>MN</td>\n",
       "      <td>USA</td>\n",
       "      <td>USA</td>\n",
       "      <td>72</td>\n",
       "      <td>218</td>\n",
       "      <td>2006.0</td>\n",
       "      <td>1.0</td>\n",
       "      <td>...</td>\n",
       "      <td>70.0</td>\n",
       "      <td>3.7</td>\n",
       "      <td>1.3</td>\n",
       "      <td>5.0</td>\n",
       "      <td>2486.75</td>\n",
       "      <td>102</td>\n",
       "      <td>6.6</td>\n",
       "      <td>114.8</td>\n",
       "      <td>36.8</td>\n",
       "      <td>0.57</td>\n",
       "    </tr>\n",
       "    <tr>\n",
       "      <th>3</th>\n",
       "      <td>3500000</td>\n",
       "      <td>92-01-07</td>\n",
       "      <td>Ottawa</td>\n",
       "      <td>ON</td>\n",
       "      <td>CAN</td>\n",
       "      <td>CAN</td>\n",
       "      <td>77</td>\n",
       "      <td>220</td>\n",
       "      <td>2010.0</td>\n",
       "      <td>1.0</td>\n",
       "      <td>...</td>\n",
       "      <td>22.0</td>\n",
       "      <td>0.0</td>\n",
       "      <td>0.4</td>\n",
       "      <td>0.5</td>\n",
       "      <td>1074.41</td>\n",
       "      <td>130</td>\n",
       "      <td>17.5</td>\n",
       "      <td>105.1</td>\n",
       "      <td>5.9</td>\n",
       "      <td>0.20</td>\n",
       "    </tr>\n",
       "    <tr>\n",
       "      <th>4</th>\n",
       "      <td>1750000</td>\n",
       "      <td>94-03-29</td>\n",
       "      <td>Toronto</td>\n",
       "      <td>ON</td>\n",
       "      <td>CAN</td>\n",
       "      <td>CAN</td>\n",
       "      <td>76</td>\n",
       "      <td>217</td>\n",
       "      <td>2012.0</td>\n",
       "      <td>1.0</td>\n",
       "      <td>...</td>\n",
       "      <td>68.0</td>\n",
       "      <td>-0.1</td>\n",
       "      <td>1.4</td>\n",
       "      <td>1.3</td>\n",
       "      <td>3459.09</td>\n",
       "      <td>425</td>\n",
       "      <td>8.3</td>\n",
       "      <td>99.5</td>\n",
       "      <td>21.8</td>\n",
       "      <td>0.27</td>\n",
       "    </tr>\n",
       "    <tr>\n",
       "      <th>...</th>\n",
       "      <td>...</td>\n",
       "      <td>...</td>\n",
       "      <td>...</td>\n",
       "      <td>...</td>\n",
       "      <td>...</td>\n",
       "      <td>...</td>\n",
       "      <td>...</td>\n",
       "      <td>...</td>\n",
       "      <td>...</td>\n",
       "      <td>...</td>\n",
       "      <td>...</td>\n",
       "      <td>...</td>\n",
       "      <td>...</td>\n",
       "      <td>...</td>\n",
       "      <td>...</td>\n",
       "      <td>...</td>\n",
       "      <td>...</td>\n",
       "      <td>...</td>\n",
       "      <td>...</td>\n",
       "      <td>...</td>\n",
       "      <td>...</td>\n",
       "    </tr>\n",
       "    <tr>\n",
       "      <th>607</th>\n",
       "      <td>600000</td>\n",
       "      <td>92-09-26</td>\n",
       "      <td>Denver</td>\n",
       "      <td>CO</td>\n",
       "      <td>USA</td>\n",
       "      <td>USA</td>\n",
       "      <td>73</td>\n",
       "      <td>201</td>\n",
       "      <td>2011.0</td>\n",
       "      <td>3.0</td>\n",
       "      <td>...</td>\n",
       "      <td>47.0</td>\n",
       "      <td>0.0</td>\n",
       "      <td>1.3</td>\n",
       "      <td>1.3</td>\n",
       "      <td>3023.36</td>\n",
       "      <td>100</td>\n",
       "      <td>6.9</td>\n",
       "      <td>103.6</td>\n",
       "      <td>23.2</td>\n",
       "      <td>0.33</td>\n",
       "    </tr>\n",
       "    <tr>\n",
       "      <th>608</th>\n",
       "      <td>9000000</td>\n",
       "      <td>85-01-21</td>\n",
       "      <td>Madison</td>\n",
       "      <td>WI</td>\n",
       "      <td>USA</td>\n",
       "      <td>USA</td>\n",
       "      <td>74</td>\n",
       "      <td>206</td>\n",
       "      <td>2003.0</td>\n",
       "      <td>1.0</td>\n",
       "      <td>...</td>\n",
       "      <td>112.0</td>\n",
       "      <td>2.7</td>\n",
       "      <td>6.6</td>\n",
       "      <td>9.3</td>\n",
       "      <td>2715.54</td>\n",
       "      <td>213</td>\n",
       "      <td>6.3</td>\n",
       "      <td>111.3</td>\n",
       "      <td>44.1</td>\n",
       "      <td>0.54</td>\n",
       "    </tr>\n",
       "    <tr>\n",
       "      <th>609</th>\n",
       "      <td>4250000</td>\n",
       "      <td>87-03-30</td>\n",
       "      <td>Montreal</td>\n",
       "      <td>QC</td>\n",
       "      <td>CAN</td>\n",
       "      <td>CAN</td>\n",
       "      <td>73</td>\n",
       "      <td>205</td>\n",
       "      <td>2005.0</td>\n",
       "      <td>2.0</td>\n",
       "      <td>...</td>\n",
       "      <td>75.0</td>\n",
       "      <td>1.7</td>\n",
       "      <td>4.1</td>\n",
       "      <td>5.8</td>\n",
       "      <td>2855.83</td>\n",
       "      <td>200</td>\n",
       "      <td>4.1</td>\n",
       "      <td>108.8</td>\n",
       "      <td>32.5</td>\n",
       "      <td>0.43</td>\n",
       "    </tr>\n",
       "    <tr>\n",
       "      <th>610</th>\n",
       "      <td>7000000</td>\n",
       "      <td>82-10-31</td>\n",
       "      <td>Kladno</td>\n",
       "      <td>0</td>\n",
       "      <td>CZE</td>\n",
       "      <td>CZE</td>\n",
       "      <td>71</td>\n",
       "      <td>196</td>\n",
       "      <td>2001.0</td>\n",
       "      <td>3.0</td>\n",
       "      <td>...</td>\n",
       "      <td>74.0</td>\n",
       "      <td>0.5</td>\n",
       "      <td>1.9</td>\n",
       "      <td>2.4</td>\n",
       "      <td>3287.74</td>\n",
       "      <td>126</td>\n",
       "      <td>7.3</td>\n",
       "      <td>113.2</td>\n",
       "      <td>38.7</td>\n",
       "      <td>0.50</td>\n",
       "    </tr>\n",
       "    <tr>\n",
       "      <th>611</th>\n",
       "      <td>925000</td>\n",
       "      <td>93-05-12</td>\n",
       "      <td>St. Albert</td>\n",
       "      <td>AB</td>\n",
       "      <td>CAN</td>\n",
       "      <td>CAN</td>\n",
       "      <td>78</td>\n",
       "      <td>226</td>\n",
       "      <td>2012.0</td>\n",
       "      <td>3.0</td>\n",
       "      <td>...</td>\n",
       "      <td>100.0</td>\n",
       "      <td>2.2</td>\n",
       "      <td>4.5</td>\n",
       "      <td>6.7</td>\n",
       "      <td>3119.42</td>\n",
       "      <td>229</td>\n",
       "      <td>7.4</td>\n",
       "      <td>104.0</td>\n",
       "      <td>45.8</td>\n",
       "      <td>0.56</td>\n",
       "    </tr>\n",
       "  </tbody>\n",
       "</table>\n",
       "<p>612 rows × 154 columns</p>\n",
       "</div>"
      ],
      "text/plain": [
       "      Salary      Born          City Pr/St Cntry  Nat  Ht   Wt   DftYr  DftRd  \\\n",
       "0     925000  97-01-30  Sainte-Marie    QC   CAN  CAN  74  190  2015.0    1.0   \n",
       "1    2250000  93-12-21        Ottawa    ON   CAN  CAN  74  207  2012.0    1.0   \n",
       "2    8000000  88-04-16      St. Paul    MN   USA  USA  72  218  2006.0    1.0   \n",
       "3    3500000  92-01-07        Ottawa    ON   CAN  CAN  77  220  2010.0    1.0   \n",
       "4    1750000  94-03-29       Toronto    ON   CAN  CAN  76  217  2012.0    1.0   \n",
       "..       ...       ...           ...   ...   ...  ...  ..  ...     ...    ...   \n",
       "607   600000  92-09-26        Denver    CO   USA  USA  73  201  2011.0    3.0   \n",
       "608  9000000  85-01-21       Madison    WI   USA  USA  74  206  2003.0    1.0   \n",
       "609  4250000  87-03-30      Montreal    QC   CAN  CAN  73  205  2005.0    2.0   \n",
       "610  7000000  82-10-31        Kladno     0   CZE  CZE  71  196  2001.0    3.0   \n",
       "611   925000  93-05-12    St. Albert    AB   CAN  CAN  78  226  2012.0    3.0   \n",
       "\n",
       "     ...   PEND  OPS  DPS   PS     OTOI Grit   DAP   Pace    GS  GS/G  \n",
       "0    ...    1.0  0.0 -0.2 -0.2    40.03    1   0.0  175.7  -0.4 -0.38  \n",
       "1    ...   98.0 -0.2  3.4  3.2  2850.59  290  13.3  112.5  14.1  0.18  \n",
       "2    ...   70.0  3.7  1.3  5.0  2486.75  102   6.6  114.8  36.8  0.57  \n",
       "3    ...   22.0  0.0  0.4  0.5  1074.41  130  17.5  105.1   5.9  0.20  \n",
       "4    ...   68.0 -0.1  1.4  1.3  3459.09  425   8.3   99.5  21.8  0.27  \n",
       "..   ...    ...  ...  ...  ...      ...  ...   ...    ...   ...   ...  \n",
       "607  ...   47.0  0.0  1.3  1.3  3023.36  100   6.9  103.6  23.2  0.33  \n",
       "608  ...  112.0  2.7  6.6  9.3  2715.54  213   6.3  111.3  44.1  0.54  \n",
       "609  ...   75.0  1.7  4.1  5.8  2855.83  200   4.1  108.8  32.5  0.43  \n",
       "610  ...   74.0  0.5  1.9  2.4  3287.74  126   7.3  113.2  38.7  0.50  \n",
       "611  ...  100.0  2.2  4.5  6.7  3119.42  229   7.4  104.0  45.8  0.56  \n",
       "\n",
       "[612 rows x 154 columns]"
      ]
     },
     "execution_count": 6,
     "metadata": {},
     "output_type": "execute_result"
    }
   ],
   "source": [
    "player"
   ]
  },
  {
   "cell_type": "code",
   "execution_count": 7,
   "metadata": {},
   "outputs": [
    {
     "name": "stdout",
     "output_type": "stream",
     "text": [
      "       Salary      Born          City Pr/St Cntry  Nat  Ht   Wt   DftYr  \\\n",
      "103  13800000  88-11-19       Buffalo    NY   USA  USA  71  177  2007.0   \n",
      "496  13800000  88-04-29      Winnipeg    MB   CAN  CAN  74  201  2006.0   \n",
      "542  12000000  85-08-14      Sicamous    BC   CAN  CAN  76  232  2003.0   \n",
      "208  11000000  89-05-13       Toronto    ON   CAN  CAN  72  210  2007.0   \n",
      "145  10900000  87-08-07  Cole Harbour    NS   CAN  CAN  71  200  2005.0   \n",
      "226  10000000  89-08-15        Kladno     0   CZE  CZE  74  214  2007.0   \n",
      "260  10000000  85-09-17        Moscow     0   RUS  RUS  75  239  2004.0   \n",
      "594   9500000  86-07-31  Magnitogorsk     0   RUS  RUS  75  195  2004.0   \n",
      "608   9000000  85-01-21       Madison    WI   USA  USA  74  206  2003.0   \n",
      "191   9000000  84-07-28   Minneapolis    MN   USA  USA  71  196  2003.0   \n",
      "\n",
      "     DftRd  ...   PEND   OPS  DPS    PS     OTOI Grit  DAP   Pace    GS  GS/G  \n",
      "103    1.0  ...   91.0   8.7  2.1  10.8  3057.71   75  4.8  114.0  89.2  1.09  \n",
      "496    1.0  ...   78.0   4.7  1.6   6.3  2866.62  111  5.3  116.8  62.4  0.87  \n",
      "542    2.0  ...  115.0   4.1  6.0  10.1  2759.46  335  7.9  110.3  53.9  0.69  \n",
      "208    2.0  ...   99.0   3.6  2.4   6.1  2338.29  228  6.8  110.1  52.8  0.80  \n",
      "145    1.0  ...  110.0  10.5  1.7  12.3  2880.93  131  9.9  125.4  94.6  1.26  \n",
      "226    1.0  ...  112.0   4.6  1.0   5.6  3161.36  110  4.2  120.7  60.4  0.74  \n",
      "260    1.0  ...   72.0   7.0  1.7   8.7  3150.92  295  9.8  122.1  75.6  0.92  \n",
      "594    1.0  ...   74.0   8.4  1.6   9.9  2356.80  143  2.6  119.1  69.7  1.12  \n",
      "608    1.0  ...  112.0   2.7  6.6   9.3  2715.54  213  6.3  111.3  44.1  0.54  \n",
      "191    1.0  ...   59.0   3.4  0.9   4.3  2897.33  145  5.3  121.8  46.1  0.67  \n",
      "\n",
      "[10 rows x 154 columns]\n"
     ]
    }
   ],
   "source": [
    "player = player.sort_values('Salary', ascending=False)\n",
    "top10 = player.head(10)\n",
    "print(top10)"
   ]
  },
  {
   "cell_type": "code",
   "execution_count": 8,
   "metadata": {},
   "outputs": [],
   "source": [
    "# data still not dislaying player name. to fix this, i am going to set desired column headers as the index, which is the primary, and in this case the composite key. "
   ]
  },
  {
   "cell_type": "code",
   "execution_count": 9,
   "metadata": {},
   "outputs": [
    {
     "name": "stdout",
     "output_type": "stream",
     "text": [
      "                         Salary      Born           City Pr/St Cntry  Nat  Ht  \\\n",
      "Last Name  First Name                                                           \n",
      "Kane       Patrick     13800000  88-11-19        Buffalo    NY   USA  USA  71   \n",
      "Toews      Jonathan    13800000  88-04-29       Winnipeg    MB   CAN  CAN  74   \n",
      "Weber      Shea        12000000  85-08-14       Sicamous    BC   CAN  CAN  76   \n",
      "Subban     P.K.        11000000  89-05-13        Toronto    ON   CAN  CAN  72   \n",
      "Crosby     Sidney      10900000  87-08-07   Cole Harbour    NS   CAN  CAN  71   \n",
      "...                         ...       ...            ...   ...   ...  ...  ..   \n",
      "Rasmussen  Dennis        575000  90-07-03       Vasteras     0   SWE  SWE  75   \n",
      "Bartkowski Matt          575000  88-06-04     Pittsburgh    PA   USA  USA  73   \n",
      "Porter     Kevin         575000  86-03-12        Detroit    MI   USA  USA  71   \n",
      "Rowney     Carter        575000  89-05-10  Grand Prairie    AB   CAN  CAN  74   \n",
      "Dumont     Gabriel       575000  90-10-06  Ville Degelis    QC   CAN  CAN  70   \n",
      "\n",
      "                        Wt   DftYr  DftRd  ...   PEND   OPS  DPS    PS  \\\n",
      "Last Name  First Name                      ...                           \n",
      "Kane       Patrick     177  2007.0    1.0  ...   91.0   8.7  2.1  10.8   \n",
      "Toews      Jonathan    201  2006.0    1.0  ...   78.0   4.7  1.6   6.3   \n",
      "Weber      Shea        232  2003.0    2.0  ...  115.0   4.1  6.0  10.1   \n",
      "Subban     P.K.        210  2007.0    2.0  ...   99.0   3.6  2.4   6.1   \n",
      "Crosby     Sidney      200  2005.0    1.0  ...  110.0  10.5  1.7  12.3   \n",
      "...                    ...     ...    ...  ...    ...   ...  ...   ...   \n",
      "Rasmussen  Dennis      205     0.0    0.0  ...   33.0  -0.9  0.6  -0.4   \n",
      "Bartkowski Matt        196  2008.0    7.0  ...   24.0  -0.1  0.5   0.4   \n",
      "Porter     Kevin       191  2004.0    4.0  ...    0.0  -0.1  0.0  -0.1   \n",
      "Rowney     Carter      200     0.0    0.0  ...   13.0   0.3  0.3   0.6   \n",
      "Dumont     Gabriel     190  2009.0    5.0  ...   23.0  -0.4  0.5   0.1   \n",
      "\n",
      "                          OTOI  Grit   DAP   Pace    GS  GS/G  \n",
      "Last Name  First Name                                          \n",
      "Kane       Patrick     3057.71    75   4.8  114.0  89.2  1.09  \n",
      "Toews      Jonathan    2866.62   111   5.3  116.8  62.4  0.87  \n",
      "Weber      Shea        2759.46   335   7.9  110.3  53.9  0.69  \n",
      "Subban     P.K.        2338.29   228   6.8  110.1  52.8  0.80  \n",
      "Crosby     Sidney      2880.93   131   9.9  125.4  94.6  1.26  \n",
      "...                        ...   ...   ...    ...   ...   ...  \n",
      "Rasmussen  Dennis      2908.90   122  14.3  110.1  11.7  0.17  \n",
      "Bartkowski Matt         924.83    86  16.3  105.7  -0.6 -0.03  \n",
      "Porter     Kevin         86.38     6   0.0   98.6  -0.2 -0.08  \n",
      "Rowney     Carter      1149.28    83  37.5  105.3   6.9  0.25  \n",
      "Dumont     Gabriel     1649.17   134  12.7  103.6   6.1  0.16  \n",
      "\n",
      "[612 rows x 152 columns]\n"
     ]
    }
   ],
   "source": [
    "player = player.set_index(['Last Name', 'First Name'])\n",
    "print(player)"
   ]
  },
  {
   "cell_type": "code",
   "execution_count": 10,
   "metadata": {},
   "outputs": [],
   "source": [
    "#using the shape fuction, I am going to determine the number of arguments(players) \n",
    "# as well as the attributes (stats)"
   ]
  },
  {
   "cell_type": "code",
   "execution_count": 11,
   "metadata": {},
   "outputs": [
    {
     "name": "stdout",
     "output_type": "stream",
     "text": [
      "(612, 152)\n"
     ]
    }
   ],
   "source": [
    "size = player.shape\n",
    "print(size)"
   ]
  },
  {
   "cell_type": "code",
   "execution_count": 12,
   "metadata": {},
   "outputs": [],
   "source": [
    "# now i am going to create a for loop using the .columns to split out all of the headers in a readable format"
   ]
  },
  {
   "cell_type": "code",
   "execution_count": 13,
   "metadata": {},
   "outputs": [
    {
     "name": "stdout",
     "output_type": "stream",
     "text": [
      "Salary\n",
      "Born\n",
      "City\n",
      "Pr/St\n",
      "Cntry\n",
      "Nat\n",
      "Ht\n",
      "Wt\n",
      "DftYr\n",
      "DftRd\n",
      "Ovrl\n",
      "Hand\n",
      "Position\n",
      "Team\n",
      "GP\n",
      "G\n",
      "A\n",
      "A1\n",
      "A2\n",
      "PTS\n",
      "+/-\n",
      "E+/-\n",
      "PIM\n",
      "Shifts\n",
      "TOI\n",
      "TOIX\n",
      "TOI/GP\n",
      "TOI/GP.1\n",
      "TOI%\n",
      "IPP%\n",
      "SH%\n",
      "SV%\n",
      "PDO\n",
      "F/60\n",
      "A/60\n",
      "Pct%\n",
      "Diff\n",
      "Diff/60\n",
      "iCF\n",
      "iCF.1\n",
      "iFF\n",
      "iSF\n",
      "iSF.1\n",
      "iSF.2\n",
      "ixG\n",
      "iSCF\n",
      "iRB\n",
      "iRS\n",
      "iDS\n",
      "sDist\n",
      "sDist.1\n",
      "Pass\n",
      "iHF\n",
      "iHF.1\n",
      "iHA\n",
      "iHDf\n",
      "iMiss\n",
      "iGVA\n",
      "iTKA\n",
      "iBLK\n",
      "iGVA.1\n",
      "iTKA.1\n",
      "iBLK.1\n",
      "BLK%\n",
      "iFOW\n",
      "iFOL\n",
      "iFOW.1\n",
      "iFOL.1\n",
      "FO%\n",
      "%FOT\n",
      "dzFOW\n",
      "dzFOL\n",
      "nzFOW\n",
      "nzFOL\n",
      "ozFOW\n",
      "ozFOL\n",
      "FOW.Up\n",
      "FOL.Up\n",
      "FOW.Down\n",
      "FOL.Down\n",
      "FOW.Close\n",
      "FOL.Close\n",
      "OTG\n",
      "1G\n",
      "GWG\n",
      "ENG\n",
      "PSG\n",
      "PSA\n",
      "G.Bkhd\n",
      "G.Dflct\n",
      "G.Slap\n",
      "G.Snap\n",
      "G.Tip\n",
      "G.Wrap\n",
      "G.Wrst\n",
      "CBar \n",
      "Post\n",
      "Over\n",
      "Wide\n",
      "S.Bkhd\n",
      "S.Dflct\n",
      "S.Slap\n",
      "S.Snap\n",
      "S.Tip\n",
      "S.Wrap\n",
      "S.Wrst\n",
      "iPenT\n",
      "iPenD\n",
      "iPENT\n",
      "iPEND\n",
      "iPenDf\n",
      "NPD\n",
      "Min\n",
      "Maj\n",
      "Match\n",
      "Misc\n",
      "Game\n",
      "CF\n",
      "CA\n",
      "FF\n",
      "FA\n",
      "SF\n",
      "SA\n",
      "xGF\n",
      "xGA\n",
      "SCF\n",
      "SCA\n",
      "GF\n",
      "GA\n",
      "RBF\n",
      "RBA\n",
      "RSF\n",
      "RSA\n",
      "DSF\n",
      "DSA\n",
      "FOW\n",
      "FOL\n",
      "HF\n",
      "HA\n",
      "GVA\n",
      "TKA\n",
      "PENT\n",
      "PEND\n",
      "OPS\n",
      "DPS\n",
      "PS\n",
      "OTOI\n",
      "Grit\n",
      "DAP\n",
      "Pace\n",
      "GS\n",
      "GS/G\n"
     ]
    }
   ],
   "source": [
    "columns = player.columns \n",
    "for i in columns:\n",
    "    print(i)"
   ]
  },
  {
   "cell_type": "code",
   "execution_count": 14,
   "metadata": {},
   "outputs": [],
   "source": [
    "#test run to see if I can locate specific data"
   ]
  },
  {
   "cell_type": "code",
   "execution_count": 15,
   "metadata": {},
   "outputs": [
    {
     "name": "stdout",
     "output_type": "stream",
     "text": [
      "             Salary      Born              City Pr/St Cntry  Nat  Ht   Wt  \\\n",
      "First Name                                                                  \n",
      "Patrice     8750000  85-07-24  Ancienne-Lorette    QC   CAN  CAN  73  195   \n",
      "\n",
      "             DftYr  DftRd  ...  PEND  OPS  DPS   PS    OTOI  Grit  DAP   Pace  \\\n",
      "First Name                 ...                                                  \n",
      "Patrice     2003.0    2.0  ...  95.0  4.2  2.5  6.6  3197.0   125  9.9  116.8   \n",
      "\n",
      "              GS  GS/G  \n",
      "First Name              \n",
      "Patrice     87.4  1.11  \n",
      "\n",
      "[1 rows x 152 columns]\n"
     ]
    }
   ],
   "source": [
    "print(player.loc['Bergeron'])"
   ]
  },
  {
   "cell_type": "code",
   "execution_count": 16,
   "metadata": {},
   "outputs": [
    {
     "name": "stdout",
     "output_type": "stream",
     "text": [
      "              Salary      Born       City Pr/St Cntry  Nat  Ht   Wt   DftYr  \\\n",
      "First Name                                                                    \n",
      "Patrick     13800000  88-11-19    Buffalo    NY   USA  USA  71  177  2007.0   \n",
      "Evander      6000000  91-08-02  Vancouver    BC   CAN  CAN  74  211  2009.0   \n",
      "\n",
      "            DftRd  ...  PEND  OPS  DPS    PS     OTOI  Grit  DAP   Pace    GS  \\\n",
      "First Name         ...                                                          \n",
      "Patrick       1.0  ...  91.0  8.7  2.1  10.8  3057.71    75  4.8  114.0  89.2   \n",
      "Evander       1.0  ...  64.0  4.2  1.0   5.1  2825.59   252  4.5  116.3  41.1   \n",
      "\n",
      "            GS/G  \n",
      "First Name        \n",
      "Patrick     1.09  \n",
      "Evander     0.59  \n",
      "\n",
      "[2 rows x 152 columns]\n"
     ]
    }
   ],
   "source": [
    "print(player.loc['Kane'])"
   ]
  },
  {
   "cell_type": "code",
   "execution_count": 18,
   "metadata": {},
   "outputs": [
    {
     "name": "stdout",
     "output_type": "stream",
     "text": [
      "Salary    13800000\n",
      "Born      88-11-19\n",
      "City       Buffalo\n",
      "Pr/St           NY\n",
      "Cntry          USA\n",
      "Name: (Kane, Patrick), dtype: object\n"
     ]
    }
   ],
   "source": [
    "print(player.loc['Kane', 'Patrick'][0:5])"
   ]
  },
  {
   "cell_type": "code",
   "execution_count": 19,
   "metadata": {},
   "outputs": [],
   "source": [
    "# now I am going to take the sum of all of the Goals 'G' scored by the 10 highest paid players"
   ]
  },
  {
   "cell_type": "code",
   "execution_count": 20,
   "metadata": {},
   "outputs": [
    {
     "name": "stdout",
     "output_type": "stream",
     "text": [
      "The 10 Highest paid Players Scored 240 total goals last season\n"
     ]
    }
   ],
   "source": [
    "scorers = player.head(10).G.sum()\n",
    "print(\"The 10 Highest paid Players Scored\", scorers, \"total goals last season\")"
   ]
  },
  {
   "cell_type": "code",
   "execution_count": 22,
   "metadata": {},
   "outputs": [
    {
     "name": "stdout",
     "output_type": "stream",
     "text": [
      "('Crosby', 'Sidney') was the best goal scorer by scoring 44 goals\n"
     ]
    }
   ],
   "source": [
    "best_scorer = player.G.idxmax()\n",
    "best_score = player.G.max()\n",
    "print(best_scorer,\"was the best goal scorer by scoring\",best_score,\"goals\")"
   ]
  },
  {
   "cell_type": "code",
   "execution_count": 23,
   "metadata": {},
   "outputs": [
    {
     "data": {
      "text/plain": [
       "Last Name  First Name\n",
       "Kane       Patrick       89\n",
       "Toews      Jonathan      58\n",
       "Weber      Shea          42\n",
       "Subban     P.K.          40\n",
       "Crosby     Sidney        89\n",
       "Voracek    Jakub         61\n",
       "Ovechkin   Alex          69\n",
       "Malkin     Evgeni        72\n",
       "Suter      Ryan          40\n",
       "Parise     Zach          42\n",
       "Name: PTS, dtype: int64"
      ]
     },
     "execution_count": 23,
     "metadata": {},
     "output_type": "execute_result"
    }
   ],
   "source": [
    "player.PTS.head(10)"
   ]
  },
  {
   "cell_type": "code",
   "execution_count": 24,
   "metadata": {},
   "outputs": [],
   "source": [
    "# now we are going to find out what the average salary of NHL player born in Canada "
   ]
  },
  {
   "cell_type": "code",
   "execution_count": 25,
   "metadata": {},
   "outputs": [],
   "source": [
    "can_salaries = player[player.Nat == \"CAN\"].Salary.mean()"
   ]
  },
  {
   "cell_type": "code",
   "execution_count": 26,
   "metadata": {},
   "outputs": [],
   "source": [
    "#This iterates through each Player's nationality('Nat') and only selects Canadian ('CAN') players. \n",
    "#After returning all the Canadian players, next, this code looks under the \n",
    "# 'Salary' column and returns the mean()."
   ]
  },
  {
   "cell_type": "code",
   "execution_count": 27,
   "metadata": {},
   "outputs": [
    {
     "name": "stdout",
     "output_type": "stream",
     "text": [
      "The Average Salary for a Canadian is $ 2289861.15916955\n"
     ]
    }
   ],
   "source": [
    "print(\"The Average Salary for a Canadian is $\", can_salaries)"
   ]
  },
  {
   "cell_type": "code",
   "execution_count": 28,
   "metadata": {},
   "outputs": [],
   "source": [
    "# now i am going to play around with the .groupby() function "
   ]
  },
  {
   "cell_type": "code",
   "execution_count": 29,
   "metadata": {},
   "outputs": [],
   "source": [
    "draft_results = player.groupby(\"DftRd\").G.mean()"
   ]
  },
  {
   "cell_type": "code",
   "execution_count": 30,
   "metadata": {},
   "outputs": [
    {
     "name": "stdout",
     "output_type": "stream",
     "text": [
      "DftRd\n",
      "0.0     3.710000\n",
      "1.0    11.606796\n",
      "2.0     7.079208\n",
      "3.0     6.070175\n",
      "4.0     5.000000\n",
      "5.0     5.472222\n",
      "6.0     6.972973\n",
      "7.0     7.608696\n",
      "8.0     5.000000\n",
      "9.0     9.333333\n",
      "Name: G, dtype: float64\n"
     ]
    }
   ],
   "source": [
    "print(draft_results)"
   ]
  },
  {
   "cell_type": "code",
   "execution_count": 31,
   "metadata": {},
   "outputs": [
    {
     "name": "stdout",
     "output_type": "stream",
     "text": [
      "DftRd\n",
      "0.0    10.100000\n",
      "1.0    31.082524\n",
      "2.0    18.762376\n",
      "3.0    16.929825\n",
      "4.0    13.777778\n",
      "5.0    14.083333\n",
      "6.0    18.486486\n",
      "7.0    20.304348\n",
      "8.0    18.000000\n",
      "9.0    21.666667\n",
      "Name: PTS, dtype: float64\n"
     ]
    }
   ],
   "source": [
    "draft_results_p = player.groupby(\"DftRd\").PTS.mean()\n",
    "print(draft_results_p)"
   ]
  },
  {
   "cell_type": "code",
   "execution_count": 32,
   "metadata": {},
   "outputs": [],
   "source": [
    "who = player[player.DftRd == 9.0]"
   ]
  },
  {
   "cell_type": "code",
   "execution_count": 33,
   "metadata": {},
   "outputs": [
    {
     "name": "stdout",
     "output_type": "stream",
     "text": [
      "                       Salary      Born           City Pr/St Cntry  Nat  Ht  \\\n",
      "Last Name First Name                                                          \n",
      "Moulson   Matt        5000000  83-11-01     North York    ON   CAN  CAN  73   \n",
      "Streit    Mark        4000000  77-12-11           Bern     0   CHE  CHE  71   \n",
      "Winnik    Daniel      1800000  85-03-06        Toronto    ON   CAN  CAN  74   \n",
      "Parenteau PA          1250000  83-03-24           Hull    QC   CAN  CAN  72   \n",
      "Glass     Tanner      1000000  83-11-29         Regina    SK   CAN  CAN  73   \n",
      "Cracknell Adam         600000  85-07-15  Prince Albert    SK   CAN  CAN  75   \n",
      "\n",
      "                       Wt   DftYr  DftRd  ...  PEND  OPS  DPS   PS     OTOI  \\\n",
      "Last Name First Name                      ...                                 \n",
      "Moulson   Matt        200  2003.0    9.0  ...  49.0  2.5  1.0  3.5  3390.74   \n",
      "Streit    Mark        191  2004.0    9.0  ...  72.0  2.1  1.8  3.9  2637.71   \n",
      "Winnik    Daniel      206  2004.0    9.0  ...  67.0  1.4  1.5  3.0  3060.90   \n",
      "Parenteau PA          200  2001.0    9.0  ...  63.0  1.8  0.6  2.4  2682.32   \n",
      "Glass     Tanner      213  2003.0    9.0  ...   8.0  0.0  0.1  0.1   452.44   \n",
      "Cracknell Adam        220  2004.0    9.0  ...  56.0  0.9  1.1  1.9  2917.09   \n",
      "\n",
      "                      Grit   DAP   Pace    GS  GS/G  \n",
      "Last Name First Name                                 \n",
      "Moulson   Matt          65  11.0  107.4  32.7  0.40  \n",
      "Streit    Mark         158   3.9  116.3  30.0  0.44  \n",
      "Winnik    Daniel       111   4.6   98.8  27.6  0.38  \n",
      "Parenteau PA           105   5.4  105.5  26.6  0.40  \n",
      "Glass     Tanner        61  39.0  101.1   1.5  0.13  \n",
      "Cracknell Adam         140  22.0  116.3  22.3  0.32  \n",
      "\n",
      "[6 rows x 152 columns]\n"
     ]
    }
   ],
   "source": [
    "print(who)"
   ]
  },
  {
   "cell_type": "code",
   "execution_count": 34,
   "metadata": {},
   "outputs": [],
   "source": [
    "# now i want to find out how many players are from each country"
   ]
  },
  {
   "cell_type": "code",
   "execution_count": 35,
   "metadata": {},
   "outputs": [
    {
     "name": "stdout",
     "output_type": "stream",
     "text": [
      "Nat\n",
      "AUT      2\n",
      "CAN    289\n",
      "CHE      9\n",
      "CZE     25\n",
      "DEU      2\n",
      "DNK      6\n",
      "FIN     22\n",
      "FRA      4\n",
      "GBR      1\n",
      "HRV      1\n",
      "LVA      1\n",
      "NOR      1\n",
      "RUS     27\n",
      "SVK      7\n",
      "SWE     46\n",
      "USA    169\n",
      "dtype: int64\n"
     ]
    }
   ],
   "source": [
    "nationalities = player.groupby(\"Nat\").size()\n",
    "print(nationalities)"
   ]
  },
  {
   "cell_type": "code",
   "execution_count": 36,
   "metadata": {},
   "outputs": [],
   "source": [
    "# now lets display these numbers in a pie chart to make it simpler to digest. we will do this using plot.pie"
   ]
  },
  {
   "cell_type": "code",
   "execution_count": 37,
   "metadata": {},
   "outputs": [
    {
     "data": {
      "text/plain": [
       "<matplotlib.axes._subplots.AxesSubplot at 0x102c91f50>"
      ]
     },
     "execution_count": 37,
     "metadata": {},
     "output_type": "execute_result"
    },
    {
     "data": {
      "image/png": "[encoded data removed]",
      "text/plain": [
       "<Figure size 432x288 with 1 Axes>"
      ]
     },
     "metadata": {},
     "output_type": "display_data"
    }
   ],
   "source": [
    "nationalities.plot.pie()"
   ]
  },
  {
   "cell_type": "code",
   "execution_count": 38,
   "metadata": {},
   "outputs": [
    {
     "name": "stdout",
     "output_type": "stream",
     "text": [
      "Nat\n",
      "AUT    2.475000e+06\n",
      "CAN    2.289861e+06\n",
      "CHE    2.217500e+06\n",
      "CZE    2.592000e+06\n",
      "DEU    8.125000e+05\n",
      "DNK    2.154167e+06\n",
      "FIN    2.318409e+06\n",
      "FRA    1.108125e+06\n",
      "GBR    9.250000e+05\n",
      "HRV    5.750000e+05\n",
      "LVA    1.150000e+06\n",
      "NOR    6.400000e+05\n",
      "RUS    2.746852e+06\n",
      "SVK    2.948929e+06\n",
      "SWE    2.534065e+06\n",
      "USA    2.069527e+06\n",
      "Name: Salary, dtype: float64\n"
     ]
    }
   ],
   "source": [
    "salaries = player.groupby(\"Nat\").Salary.mean()\n",
    "print(salaries)"
   ]
  },
  {
   "cell_type": "code",
   "execution_count": 39,
   "metadata": {},
   "outputs": [
    {
     "data": {
      "text/plain": [
       "<matplotlib.axes._subplots.AxesSubplot at 0x1153ce3d0>"
      ]
     },
     "execution_count": 39,
     "metadata": {},
     "output_type": "execute_result"
    },
    {
     "data": {
      "image/png": "[encoded data removed]",
      "text/plain": [
       "<Figure size 432x288 with 1 Axes>"
      ]
     },
     "metadata": {},
     "output_type": "display_data"
    }
   ],
   "source": [
    "salaries.plot.pie()"
   ]
  },
  {
   "cell_type": "code",
   "execution_count": null,
   "metadata": {},
   "outputs": [],
   "source": []
  }
 ],
 "metadata": {
  "kernelspec": {
   "display_name": "Python 3",
   "language": "python",
   "name": "python3"
  },
  "language_info": {
   "codemirror_mode": {
    "name": "ipython",
    "version": 3
   },
   "file_extension": ".py",
   "mimetype": "text/x-python",
   "name": "python",
   "nbconvert_exporter": "python",
   "pygments_lexer": "ipython3",
   "version": "3.7.6"
  }
 },
 "nbformat": 4,
 "nbformat_minor": 4
}
